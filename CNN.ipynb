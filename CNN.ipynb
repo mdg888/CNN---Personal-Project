{
  "nbformat": 4,
  "nbformat_minor": 0,
  "metadata": {
    "colab": {
      "provenance": []
    },
    "kernelspec": {
      "name": "ir",
      "display_name": "R"
    },
    "language_info": {
      "name": "R"
    }
  },
  "cells": [
    {
      "cell_type": "code",
      "execution_count": 20,
      "metadata": {
        "id": "y8BDr2_IuNi8"
      },
      "outputs": [],
      "source": [
        "# Check if the files exist befor\n",
        "  load(\"/content/x_test_images.RData\")\n",
        "  load(\"/content/x_train_images.RData\")\n",
        "  load(\"/content/y_train_images.RData\")\n"
      ]
    },
    {
      "cell_type": "code",
      "source": [
        "dim(x_train)\n",
        "dim(y_train)\n",
        "dim(x_test)"
      ],
      "metadata": {
        "id": "JDqW4fkc6mFw",
        "colab": {
          "base_uri": "https://localhost:8080/",
          "height": 69
        },
        "outputId": "8a6dbe75-9fa7-4ee4-dcad-5ae3fa2fa523"
      },
      "execution_count": 21,
      "outputs": [
        {
          "output_type": "display_data",
          "data": {
            "text/html": [
              "<style>\n",
              ".list-inline {list-style: none; margin:0; padding: 0}\n",
              ".list-inline>li {display: inline-block}\n",
              ".list-inline>li:not(:last-child)::after {content: \"\\00b7\"; padding: 0 .5ex}\n",
              "</style>\n",
              "<ol class=list-inline><li>20000</li><li>32</li><li>32</li><li>3</li></ol>\n"
            ],
            "text/markdown": "1. 20000\n2. 32\n3. 32\n4. 3\n\n\n",
            "text/latex": "\\begin{enumerate*}\n\\item 20000\n\\item 32\n\\item 32\n\\item 3\n\\end{enumerate*}\n",
            "text/plain": [
              "[1] 20000    32    32     3"
            ]
          },
          "metadata": {}
        },
        {
          "output_type": "display_data",
          "data": {
            "text/html": [
              "<style>\n",
              ".list-inline {list-style: none; margin:0; padding: 0}\n",
              ".list-inline>li {display: inline-block}\n",
              ".list-inline>li:not(:last-child)::after {content: \"\\00b7\"; padding: 0 .5ex}\n",
              "</style>\n",
              "<ol class=list-inline><li>20000</li><li>2</li></ol>\n"
            ],
            "text/markdown": "1. 20000\n2. 2\n\n\n",
            "text/latex": "\\begin{enumerate*}\n\\item 20000\n\\item 2\n\\end{enumerate*}\n",
            "text/plain": [
              "[1] 20000     2"
            ]
          },
          "metadata": {}
        },
        {
          "output_type": "display_data",
          "data": {
            "text/html": [
              "<style>\n",
              ".list-inline {list-style: none; margin:0; padding: 0}\n",
              ".list-inline>li {display: inline-block}\n",
              ".list-inline>li:not(:last-child)::after {content: \"\\00b7\"; padding: 0 .5ex}\n",
              "</style>\n",
              "<ol class=list-inline><li>3000</li><li>32</li><li>32</li><li>3</li></ol>\n"
            ],
            "text/markdown": "1. 3000\n2. 32\n3. 32\n4. 3\n\n\n",
            "text/latex": "\\begin{enumerate*}\n\\item 3000\n\\item 32\n\\item 32\n\\item 3\n\\end{enumerate*}\n",
            "text/plain": [
              "[1] 3000   32   32    3"
            ]
          },
          "metadata": {}
        }
      ]
    },
    {
      "cell_type": "code",
      "source": [
        "# Standardise per pixel\n",
        "x_train_std <- x_train / 255\n",
        "dim(x_train_std)\n",
        "\n",
        "x_test_std <- x_test / 255\n",
        "dim(x_test_std)"
      ],
      "metadata": {
        "id": "XUVBbVi56miE",
        "colab": {
          "base_uri": "https://localhost:8080/",
          "height": 52
        },
        "outputId": "d3f271b5-6ef3-45f7-cf8c-5bc5bb90ba10"
      },
      "execution_count": 22,
      "outputs": [
        {
          "output_type": "display_data",
          "data": {
            "text/html": [
              "<style>\n",
              ".list-inline {list-style: none; margin:0; padding: 0}\n",
              ".list-inline>li {display: inline-block}\n",
              ".list-inline>li:not(:last-child)::after {content: \"\\00b7\"; padding: 0 .5ex}\n",
              "</style>\n",
              "<ol class=list-inline><li>20000</li><li>32</li><li>32</li><li>3</li></ol>\n"
            ],
            "text/markdown": "1. 20000\n2. 32\n3. 32\n4. 3\n\n\n",
            "text/latex": "\\begin{enumerate*}\n\\item 20000\n\\item 32\n\\item 32\n\\item 3\n\\end{enumerate*}\n",
            "text/plain": [
              "[1] 20000    32    32     3"
            ]
          },
          "metadata": {}
        },
        {
          "output_type": "display_data",
          "data": {
            "text/html": [
              "<style>\n",
              ".list-inline {list-style: none; margin:0; padding: 0}\n",
              ".list-inline>li {display: inline-block}\n",
              ".list-inline>li:not(:last-child)::after {content: \"\\00b7\"; padding: 0 .5ex}\n",
              "</style>\n",
              "<ol class=list-inline><li>3000</li><li>32</li><li>32</li><li>3</li></ol>\n"
            ],
            "text/markdown": "1. 3000\n2. 32\n3. 32\n4. 3\n\n\n",
            "text/latex": "\\begin{enumerate*}\n\\item 3000\n\\item 32\n\\item 32\n\\item 3\n\\end{enumerate*}\n",
            "text/plain": [
              "[1] 3000   32   32    3"
            ]
          },
          "metadata": {}
        }
      ]
    },
    {
      "cell_type": "code",
      "source": [
        "install.packages(\"caret\")"
      ],
      "metadata": {
        "id": "iieO-s0B6m0W",
        "colab": {
          "base_uri": "https://localhost:8080/"
        },
        "outputId": "771b77e3-bb49-4d5c-85b8-c175a75f3d0d"
      },
      "execution_count": 23,
      "outputs": [
        {
          "output_type": "stream",
          "name": "stderr",
          "text": [
            "Installing package into ‘/usr/local/lib/R/site-library’\n",
            "(as ‘lib’ is unspecified)\n",
            "\n",
            "Warning message in install.packages(\"caret\"):\n",
            "“installation of package ‘caret’ had non-zero exit status”\n"
          ]
        }
      ]
    },
    {
      "cell_type": "code",
      "source": [
        "library(caret)\n",
        "set.seed(123)\n",
        "\n",
        "trainIndex <- createDataPartition(y_train[,2], p = 0.8, list = FALSE)\n",
        "dim(x_train_std)\n",
        "X_train <- x_train_std[-trainIndex,,,]\n",
        "X_test  <- x_train_std[-trainIndex,,,]\n",
        "y_train_split <- y_train[-trainIndex,]\n",
        "y_test_split  <- y_train[trainIndex,]\n",
        "\n",
        "dim(X_train)\n",
        "dim(X_test)\n",
        "dim(y_train_split)\n",
        "dim(y_test_split)"
      ],
      "metadata": {
        "id": "_5ZHV_Qq6nBa",
        "colab": {
          "base_uri": "https://localhost:8080/",
          "height": 104
        },
        "outputId": "e1aa673d-7d75-45dc-e704-854a0bf44b63"
      },
      "execution_count": 24,
      "outputs": [
        {
          "output_type": "display_data",
          "data": {
            "text/html": [
              "<style>\n",
              ".list-inline {list-style: none; margin:0; padding: 0}\n",
              ".list-inline>li {display: inline-block}\n",
              ".list-inline>li:not(:last-child)::after {content: \"\\00b7\"; padding: 0 .5ex}\n",
              "</style>\n",
              "<ol class=list-inline><li>20000</li><li>32</li><li>32</li><li>3</li></ol>\n"
            ],
            "text/markdown": "1. 20000\n2. 32\n3. 32\n4. 3\n\n\n",
            "text/latex": "\\begin{enumerate*}\n\\item 20000\n\\item 32\n\\item 32\n\\item 3\n\\end{enumerate*}\n",
            "text/plain": [
              "[1] 20000    32    32     3"
            ]
          },
          "metadata": {}
        },
        {
          "output_type": "display_data",
          "data": {
            "text/html": [
              "<style>\n",
              ".list-inline {list-style: none; margin:0; padding: 0}\n",
              ".list-inline>li {display: inline-block}\n",
              ".list-inline>li:not(:last-child)::after {content: \"\\00b7\"; padding: 0 .5ex}\n",
              "</style>\n",
              "<ol class=list-inline><li>3998</li><li>32</li><li>32</li><li>3</li></ol>\n"
            ],
            "text/markdown": "1. 3998\n2. 32\n3. 32\n4. 3\n\n\n",
            "text/latex": "\\begin{enumerate*}\n\\item 3998\n\\item 32\n\\item 32\n\\item 3\n\\end{enumerate*}\n",
            "text/plain": [
              "[1] 3998   32   32    3"
            ]
          },
          "metadata": {}
        },
        {
          "output_type": "display_data",
          "data": {
            "text/html": [
              "<style>\n",
              ".list-inline {list-style: none; margin:0; padding: 0}\n",
              ".list-inline>li {display: inline-block}\n",
              ".list-inline>li:not(:last-child)::after {content: \"\\00b7\"; padding: 0 .5ex}\n",
              "</style>\n",
              "<ol class=list-inline><li>3998</li><li>32</li><li>32</li><li>3</li></ol>\n"
            ],
            "text/markdown": "1. 3998\n2. 32\n3. 32\n4. 3\n\n\n",
            "text/latex": "\\begin{enumerate*}\n\\item 3998\n\\item 32\n\\item 32\n\\item 3\n\\end{enumerate*}\n",
            "text/plain": [
              "[1] 3998   32   32    3"
            ]
          },
          "metadata": {}
        },
        {
          "output_type": "display_data",
          "data": {
            "text/html": [
              "<style>\n",
              ".list-inline {list-style: none; margin:0; padding: 0}\n",
              ".list-inline>li {display: inline-block}\n",
              ".list-inline>li:not(:last-child)::after {content: \"\\00b7\"; padding: 0 .5ex}\n",
              "</style>\n",
              "<ol class=list-inline><li>3998</li><li>2</li></ol>\n"
            ],
            "text/markdown": "1. 3998\n2. 2\n\n\n",
            "text/latex": "\\begin{enumerate*}\n\\item 3998\n\\item 2\n\\end{enumerate*}\n",
            "text/plain": [
              "[1] 3998    2"
            ]
          },
          "metadata": {}
        },
        {
          "output_type": "display_data",
          "data": {
            "text/html": [
              "<style>\n",
              ".list-inline {list-style: none; margin:0; padding: 0}\n",
              ".list-inline>li {display: inline-block}\n",
              ".list-inline>li:not(:last-child)::after {content: \"\\00b7\"; padding: 0 .5ex}\n",
              "</style>\n",
              "<ol class=list-inline><li>16002</li><li>2</li></ol>\n"
            ],
            "text/markdown": "1. 16002\n2. 2\n\n\n",
            "text/latex": "\\begin{enumerate*}\n\\item 16002\n\\item 2\n\\end{enumerate*}\n",
            "text/plain": [
              "[1] 16002     2"
            ]
          },
          "metadata": {}
        }
      ]
    },
    {
      "cell_type": "code",
      "source": [
        "install.packages(\"reticulate\", dependencies = TRUE)\n",
        "install.packages(\"keras3\")\n",
        "install.packages(\"tensorflow\")"
      ],
      "metadata": {
        "id": "qmrBWmos6nVa",
        "colab": {
          "base_uri": "https://localhost:8080/"
        },
        "outputId": "37f690fd-e753-46a5-a3b5-80e8375edc56"
      },
      "execution_count": 25,
      "outputs": [
        {
          "output_type": "stream",
          "name": "stderr",
          "text": [
            "Installing package into ‘/usr/local/lib/R/site-library’\n",
            "(as ‘lib’ is unspecified)\n",
            "\n",
            "Warning message in install.packages(\"reticulate\", dependencies = TRUE):\n",
            "“installation of package ‘reticulate’ had non-zero exit status”\n",
            "Installing package into ‘/usr/local/lib/R/site-library’\n",
            "(as ‘lib’ is unspecified)\n",
            "\n",
            "Warning message in install.packages(\"keras3\"):\n",
            "“installation of package ‘keras3’ had non-zero exit status”\n",
            "Installing package into ‘/usr/local/lib/R/site-library’\n",
            "(as ‘lib’ is unspecified)\n",
            "\n",
            "Warning message in install.packages(\"tensorflow\"):\n",
            "“installation of package ‘tensorflow’ had non-zero exit status”\n"
          ]
        }
      ]
    },
    {
      "cell_type": "code",
      "source": [
        "library(reticulate)\n",
        "use_python(\"/usr/bin/python3\", required = TRUE)\n",
        "py_config()"
      ],
      "metadata": {
        "colab": {
          "base_uri": "https://localhost:8080/",
          "height": 159
        },
        "id": "i1lNl9YfGFNX",
        "outputId": "7acecfae-bc94-4ea0-d399-6f5e5815e5fd"
      },
      "execution_count": 26,
      "outputs": [
        {
          "output_type": "display_data",
          "data": {
            "text/plain": [
              "python:         /usr/bin/python3\n",
              "libpython:      /usr/lib/python3.12/config-3.12-x86_64-linux-gnu/libpython3.12.so\n",
              "pythonhome:     //usr://usr\n",
              "version:        3.12.11 (main, Jun  4 2025, 08:56:18) [GCC 11.4.0]\n",
              "numpy:          /usr/local/lib/python3.12/dist-packages/numpy\n",
              "numpy_version:  2.0.2\n",
              "\n",
              "NOTE: Python version was forced by use_python() function"
            ]
          },
          "metadata": {}
        }
      ]
    },
    {
      "cell_type": "code",
      "source": [
        "library(keras3)\n",
        "library(tensorflow)"
      ],
      "metadata": {
        "id": "2MJD1jjB61hg"
      },
      "execution_count": 27,
      "outputs": []
    },
    {
      "cell_type": "code",
      "source": [
        "# Starter model\n",
        "# Define CNN model\n",
        "cnn_model <- keras_model_sequential() %>%\n",
        "  layer_conv_2d(\n",
        "    filters = 16,\n",
        "    kernel_size = 1,\n",
        "    activation = 'relu',\n",
        "    input_shape = c(32, 32, 3)\n",
        "  ) %>%\n",
        "  layer_flatten() %>%\n",
        "  layer_dense(units = 128, activation = 'relu') %>%\n",
        "  layer_dense(units = 10, activation = 'softmax')"
      ],
      "metadata": {
        "id": "P_Qw5CN_6ngY"
      },
      "execution_count": 28,
      "outputs": []
    },
    {
      "cell_type": "code",
      "source": [
        "# Mediocre model\n",
        "# Define CNN model\n",
        "cnn_model <- keras_model_sequential() %>%\n",
        "  layer_conv_2d(\n",
        "    filters = 32,\n",
        "    kernel_size = 3,\n",
        "    activation = 'relu',\n",
        "    input_shape = c(32, 32, 3)\n",
        "  ) %>%\n",
        "  layer_flatten() %>%\n",
        "  layer_dense(units = 128, activation = 'relu') %>%\n",
        "  layer_dropout(rate = 0.5) %>%\n",
        "  layer_dense(units = 10, activation = 'softmax')\n"
      ],
      "metadata": {
        "id": "_h70BuZX6npp"
      },
      "execution_count": 29,
      "outputs": []
    },
    {
      "cell_type": "code",
      "source": [
        "# State of the Art Model\n",
        "# Define CNN model\n",
        "cnn_model <- keras_model_sequential() %>%\n",
        "  layer_conv_2d(\n",
        "    filters = 32,\n",
        "    kernel_size = 3,\n",
        "    activation = 'relu',\n",
        "    input_shape = c(32, 32, 3)\n",
        "  ) %>%\n",
        "  layer_max_pooling_2d(pool_size = 2) %>%\n",
        "  layer_conv_2d(\n",
        "    filters = 64,\n",
        "    kernel_size = 3,\n",
        "    activation = 'relu'\n",
        "  ) %>%\n",
        "  layer_max_pooling_2d(pool_size = 2) %>%\n",
        "  layer_dropout(rate = 0.25) %>%\n",
        "  layer_flatten() %>%\n",
        "  layer_dense(units = 128, activation = 'relu') %>%\n",
        "  layer_dropout(rate = 0.5) %>%\n",
        "  layer_dense(units = 10, activation = 'softmax')\n"
      ],
      "metadata": {
        "id": "ytpcIiQ26xM5"
      },
      "execution_count": 30,
      "outputs": []
    },
    {
      "cell_type": "code",
      "source": [
        "# One-hot encode data\n",
        "y_train_onehot <- to_categorical(y_train_split[,2], num_classes = 10)\n",
        "\n",
        "# 2. COMPILE with sparse loss function\n",
        "cnn_model %>% compile(\n",
        "  optimizer = 'adam',\n",
        "  loss = 'categorical_crossentropy',\n",
        "  metrics = c('accuracy')\n",
        ")\n",
        "\n",
        "# 3. TRAIN MODEL\n",
        "history <- cnn_model %>% fit(\n",
        "  X_train, y_train_onehot,\n",
        "  epochs = 20,\n",
        "  batch_size = 128,\n",
        "  validation_split = 0.2\n",
        ")"
      ],
      "metadata": {
        "id": "KgYR5tuL64J3"
      },
      "execution_count": 31,
      "outputs": []
    },
    {
      "cell_type": "code",
      "source": [
        "# 1. Get predicted probabilities\n",
        "test_results <- cnn_model %>% predict(X_test)\n",
        "test_set <- apply(test_results, 1, which.max)\n",
        "accuracy <- sum(test_set == y_test_split[,2]) / length(y_train)\n",
        "cat(\"Test accuracy:\", accuracy, \"\\n\")"
      ],
      "metadata": {
        "id": "DG9aZCWU67x6"
      },
      "execution_count": null,
      "outputs": []
    },
    {
      "cell_type": "code",
      "source": [
        "install.packages(\"tidyverse\")"
      ],
      "metadata": {
        "id": "kvaE35c-6_6T"
      },
      "execution_count": null,
      "outputs": []
    },
    {
      "cell_type": "code",
      "source": [
        "library(tidyverse)\n",
        "# PRINT FINAL CSV\n",
        "final_probs <- cnn_model %>% predict(x_test_std)\n",
        "final_probs <- as.data.frame(final_probs)\n",
        "\n",
        "# Add ID column as first column\n",
        "results <- final_probs %>%\n",
        "  mutate(ID = seq(from = 20001, length.out = nrow(final_probs))) %>%\n",
        "  select(ID, everything())\n",
        "\n",
        "# Rename class columns dynamically\n",
        "colnames(results) <- c(\"ID\", paste0(\"Class\", 0:(ncol(results)-2)))\n",
        "\n",
        "write.csv(results, \"CNN-submission.csv\", row.names = FALSE)"
      ],
      "metadata": {
        "id": "s5GM4qPF67iy"
      },
      "execution_count": null,
      "outputs": []
    }
  ]
}
